{
 "cells": [
  {
   "cell_type": "code",
   "execution_count": null,
   "metadata": {},
   "outputs": [],
   "source": [
    "%reload_ext autoreload\n",
    "%autoreload 2\n",
    "\n",
    "import matplotlib.pyplot as plt\n",
    "import cv2\n",
    "from mosaic import mosaic as mosaic\n",
    "\n",
    "# カスケードファイルを指定して分類器を作成\n",
    "cascade_file = \"haarcascade_frontalface_alt.xml\"\n",
    "cascade = cv2.CascadeClassifier(cascade_file)\n",
    "\n",
    "\n",
    "# 画像を読み込んでグレースケールに変換\n",
    "img = cv2.imread(\"test.jpg\")\n",
    "img_gray = cv2.cvtColor(img,cv2.COLOR_BGR2GRAY)\n",
    "\n",
    "# 顔検出を実行する\n",
    "face_list = cascade.detectMultiScale(img_gray,minSize=(150,150))\n",
    "if len(face_list) == 0:\n",
    "    quite()\n",
    "\n",
    "# 認識した部分の画像にモザイクをいれる\n",
    "for(x,y,w,h) in face_list:\n",
    "    img = mosaic(img,(x,y,x+w,y+h),10)\n",
    "    \n",
    "# 画像を出力する\n",
    "cv2.imwrite(\"test_mosaic.jpg\",img)\n",
    "plt.imshow(cv2.cvtColor(img,cv2.COLOR_BGR2RGB))\n",
    "plt.show()\n",
    "\n",
    "\n"
   ]
  },
  {
   "cell_type": "code",
   "execution_count": null,
   "metadata": {},
   "outputs": [],
   "source": []
  }
 ],
 "metadata": {
  "kernelspec": {
   "display_name": "Python 3",
   "language": "python",
   "name": "python3"
  },
  "language_info": {
   "codemirror_mode": {
    "name": "ipython",
    "version": 3
   },
   "file_extension": ".py",
   "mimetype": "text/x-python",
   "name": "python",
   "nbconvert_exporter": "python",
   "pygments_lexer": "ipython3",
   "version": "3.7.0"
  }
 },
 "nbformat": 4,
 "nbformat_minor": 2
}
